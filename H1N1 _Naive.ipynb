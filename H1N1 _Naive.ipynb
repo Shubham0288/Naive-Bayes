{
 "cells": [
  {
   "cell_type": "code",
   "execution_count": 1,
   "id": "6db8a74d",
   "metadata": {},
   "outputs": [],
   "source": [
    "import pandas as pd"
   ]
  },
  {
   "cell_type": "code",
   "execution_count": 2,
   "id": "57558ee7",
   "metadata": {},
   "outputs": [],
   "source": [
    "cr=pd.read_csv('D:\\Imarticus Learning\\DATASETS\\h1n1_vaccine_prediction.csv')"
   ]
  },
  {
   "cell_type": "code",
   "execution_count": 3,
   "id": "8a9314c6",
   "metadata": {},
   "outputs": [],
   "source": [
    "cr=cr.drop(['unique_id'],axis=1)"
   ]
  },
  {
   "cell_type": "code",
   "execution_count": 4,
   "id": "ab6ad03b",
   "metadata": {},
   "outputs": [],
   "source": [
    "cr.h1n1_worry.fillna(2.0,inplace=True)\n",
    "cr.h1n1_awareness.fillna(1.0,inplace=True)\n",
    "cr.antiviral_medication.fillna(0.0,inplace=True)\n",
    "cr.contact_avoidance.fillna(1.0,inplace=True)\n",
    "cr.bought_face_mask.fillna(0.0,inplace=True)\n",
    "cr.wash_hands_frequently.fillna(1.0,inplace=True)\n",
    "cr.avoid_large_gatherings.fillna(0.0,inplace=True)\n",
    "cr.reduced_outside_home_cont.fillna(0.0,inplace=True)\n",
    "cr.avoid_touch_face.fillna(1.0,inplace=True)\n",
    "cr.dr_recc_h1n1_vacc.fillna(0.0,inplace=True)\n",
    "cr.dr_recc_seasonal_vacc.fillna(0.0,inplace=True)\n",
    "cr.chronic_medic_condition.fillna(0.0,inplace=True)\n",
    "cr.cont_child_undr_6_mnths.fillna(0.0,inplace=True)\n",
    "cr.is_health_worker.fillna(0.0,inplace=True)\n",
    "cr.has_health_insur.fillna(1.0,inplace=True)\n",
    "cr.is_h1n1_vacc_effective.fillna(4.0,inplace=True)\n",
    "cr.is_h1n1_risky.fillna(2.0,inplace=True)\n",
    "cr.sick_from_h1n1_vacc.fillna(2.0,inplace=True)\n",
    "cr.is_seas_vacc_effective.fillna(4.0,inplace=True)\n",
    "cr.is_seas_risky.fillna(2.0,inplace=True)\n",
    "cr.sick_from_seas_vacc.fillna(1.0,inplace=True)\n",
    "cr.qualification.fillna('College Graduate',inplace=True)\n",
    "cr.income_level.fillna('<= $75,000, Above Poverty',inplace=True)\n",
    "cr.marital_status.fillna('Married',inplace=True)\n",
    "cr.housing_status.fillna('Own',inplace=True)\n",
    "cr.employment.fillna('Employed',inplace=True)\n",
    "cr.no_of_adults.fillna(1.0,inplace=True)\n",
    "cr.no_of_children.fillna(0.0,inplace=True)"
   ]
  },
  {
   "cell_type": "code",
   "execution_count": 5,
   "id": "5b66c7ec",
   "metadata": {},
   "outputs": [],
   "source": [
    "cr.race.replace({'White':1.0,'Black':0.0,'Hispanic':2.0,'Other or Multiple':3.0},inplace=True)\n",
    "cr.income_level.replace({'<= $75,000, Above Poverty':0.0,'> $75,000':1.0,'Below Poverty':2.0},inplace=True)\n",
    "cr.sex.replace({'Female':0.0,'Male':1.0},inplace=True)\n",
    "cr.marital_status.replace({'Married':0.0,'Not Married':1.0},inplace=True)\n",
    "cr.employment.replace({'Employed':0.0,'Not in Labor Force':1.0,'Unemployed':2.0},inplace=True)\n",
    "cr.housing_status.replace({'Own':0.0,'Rent':1.0},inplace=True)\n",
    "cr.census_msa.replace({'MSA, Not Principle  City':0.0,'MSA, Principle City':1.0,'Non-MSA':2.0},inplace=True)\n",
    "cr.age_bracket.replace({cr.age_bracket.replace({'65+ Years':0.0,'55 - 64 Years':1.0,'45 - 54 Years':2.0,'18 - 34 Years':3.0,'35 - 44 Years':4.0},inplace=True)},inplace=True)\n",
    "cr.qualification.replace({'College Graduate':0.0,'Some College':1.0,'12 Years':2.0,'< 12 Years':3.0},inplace=True)\n"
   ]
  },
  {
   "cell_type": "code",
   "execution_count": 6,
   "id": "33840e2f",
   "metadata": {},
   "outputs": [],
   "source": [
    "from sklearn.model_selection import train_test_split\n",
    "train_cr,test_cr=train_test_split(cr,test_size=.2)"
   ]
  },
  {
   "cell_type": "code",
   "execution_count": 7,
   "id": "0a31dc5c",
   "metadata": {},
   "outputs": [],
   "source": [
    "train_cr_x=train_cr.iloc[:,0:-1]\n",
    "train_cr_y=train_cr.iloc[:,-1]"
   ]
  },
  {
   "cell_type": "code",
   "execution_count": 8,
   "id": "021f4bbd",
   "metadata": {},
   "outputs": [],
   "source": [
    "test_cr_x=test_cr.iloc[:,0:-1]\n",
    "test_cr_y=test_cr.iloc[:,-1]"
   ]
  },
  {
   "cell_type": "code",
   "execution_count": 9,
   "id": "9eb2e223",
   "metadata": {},
   "outputs": [],
   "source": [
    "from sklearn.naive_bayes import MultinomialNB\n",
    "nb=MultinomialNB()"
   ]
  },
  {
   "cell_type": "code",
   "execution_count": 10,
   "id": "aa45c880",
   "metadata": {},
   "outputs": [
    {
     "data": {
      "text/html": [
       "<style>#sk-container-id-1 {color: black;background-color: white;}#sk-container-id-1 pre{padding: 0;}#sk-container-id-1 div.sk-toggleable {background-color: white;}#sk-container-id-1 label.sk-toggleable__label {cursor: pointer;display: block;width: 100%;margin-bottom: 0;padding: 0.3em;box-sizing: border-box;text-align: center;}#sk-container-id-1 label.sk-toggleable__label-arrow:before {content: \"▸\";float: left;margin-right: 0.25em;color: #696969;}#sk-container-id-1 label.sk-toggleable__label-arrow:hover:before {color: black;}#sk-container-id-1 div.sk-estimator:hover label.sk-toggleable__label-arrow:before {color: black;}#sk-container-id-1 div.sk-toggleable__content {max-height: 0;max-width: 0;overflow: hidden;text-align: left;background-color: #f0f8ff;}#sk-container-id-1 div.sk-toggleable__content pre {margin: 0.2em;color: black;border-radius: 0.25em;background-color: #f0f8ff;}#sk-container-id-1 input.sk-toggleable__control:checked~div.sk-toggleable__content {max-height: 200px;max-width: 100%;overflow: auto;}#sk-container-id-1 input.sk-toggleable__control:checked~label.sk-toggleable__label-arrow:before {content: \"▾\";}#sk-container-id-1 div.sk-estimator input.sk-toggleable__control:checked~label.sk-toggleable__label {background-color: #d4ebff;}#sk-container-id-1 div.sk-label input.sk-toggleable__control:checked~label.sk-toggleable__label {background-color: #d4ebff;}#sk-container-id-1 input.sk-hidden--visually {border: 0;clip: rect(1px 1px 1px 1px);clip: rect(1px, 1px, 1px, 1px);height: 1px;margin: -1px;overflow: hidden;padding: 0;position: absolute;width: 1px;}#sk-container-id-1 div.sk-estimator {font-family: monospace;background-color: #f0f8ff;border: 1px dotted black;border-radius: 0.25em;box-sizing: border-box;margin-bottom: 0.5em;}#sk-container-id-1 div.sk-estimator:hover {background-color: #d4ebff;}#sk-container-id-1 div.sk-parallel-item::after {content: \"\";width: 100%;border-bottom: 1px solid gray;flex-grow: 1;}#sk-container-id-1 div.sk-label:hover label.sk-toggleable__label {background-color: #d4ebff;}#sk-container-id-1 div.sk-serial::before {content: \"\";position: absolute;border-left: 1px solid gray;box-sizing: border-box;top: 0;bottom: 0;left: 50%;z-index: 0;}#sk-container-id-1 div.sk-serial {display: flex;flex-direction: column;align-items: center;background-color: white;padding-right: 0.2em;padding-left: 0.2em;position: relative;}#sk-container-id-1 div.sk-item {position: relative;z-index: 1;}#sk-container-id-1 div.sk-parallel {display: flex;align-items: stretch;justify-content: center;background-color: white;position: relative;}#sk-container-id-1 div.sk-item::before, #sk-container-id-1 div.sk-parallel-item::before {content: \"\";position: absolute;border-left: 1px solid gray;box-sizing: border-box;top: 0;bottom: 0;left: 50%;z-index: -1;}#sk-container-id-1 div.sk-parallel-item {display: flex;flex-direction: column;z-index: 1;position: relative;background-color: white;}#sk-container-id-1 div.sk-parallel-item:first-child::after {align-self: flex-end;width: 50%;}#sk-container-id-1 div.sk-parallel-item:last-child::after {align-self: flex-start;width: 50%;}#sk-container-id-1 div.sk-parallel-item:only-child::after {width: 0;}#sk-container-id-1 div.sk-dashed-wrapped {border: 1px dashed gray;margin: 0 0.4em 0.5em 0.4em;box-sizing: border-box;padding-bottom: 0.4em;background-color: white;}#sk-container-id-1 div.sk-label label {font-family: monospace;font-weight: bold;display: inline-block;line-height: 1.2em;}#sk-container-id-1 div.sk-label-container {text-align: center;}#sk-container-id-1 div.sk-container {/* jupyter's `normalize.less` sets `[hidden] { display: none; }` but bootstrap.min.css set `[hidden] { display: none !important; }` so we also need the `!important` here to be able to override the default hidden behavior on the sphinx rendered scikit-learn.org. See: https://github.com/scikit-learn/scikit-learn/issues/21755 */display: inline-block !important;position: relative;}#sk-container-id-1 div.sk-text-repr-fallback {display: none;}</style><div id=\"sk-container-id-1\" class=\"sk-top-container\"><div class=\"sk-text-repr-fallback\"><pre>MultinomialNB()</pre><b>In a Jupyter environment, please rerun this cell to show the HTML representation or trust the notebook. <br />On GitHub, the HTML representation is unable to render, please try loading this page with nbviewer.org.</b></div><div class=\"sk-container\" hidden><div class=\"sk-item\"><div class=\"sk-estimator sk-toggleable\"><input class=\"sk-toggleable__control sk-hidden--visually\" id=\"sk-estimator-id-1\" type=\"checkbox\" checked><label for=\"sk-estimator-id-1\" class=\"sk-toggleable__label sk-toggleable__label-arrow\">MultinomialNB</label><div class=\"sk-toggleable__content\"><pre>MultinomialNB()</pre></div></div></div></div></div>"
      ],
      "text/plain": [
       "MultinomialNB()"
      ]
     },
     "execution_count": 10,
     "metadata": {},
     "output_type": "execute_result"
    }
   ],
   "source": [
    "nb.fit(train_cr_x,train_cr_y)"
   ]
  },
  {
   "cell_type": "code",
   "execution_count": 11,
   "id": "80be937d",
   "metadata": {},
   "outputs": [],
   "source": [
    "pred_nb=nb.predict(test_cr_x)"
   ]
  },
  {
   "cell_type": "code",
   "execution_count": 12,
   "id": "f951f6b0",
   "metadata": {},
   "outputs": [],
   "source": [
    "from sklearn.metrics import classification_report, confusion_matrix"
   ]
  },
  {
   "cell_type": "code",
   "execution_count": 13,
   "id": "cfd91dbd",
   "metadata": {},
   "outputs": [],
   "source": [
    "tab1=confusion_matrix(test_cr_y,pred_nb)"
   ]
  },
  {
   "cell_type": "code",
   "execution_count": 14,
   "id": "33b3de3d",
   "metadata": {},
   "outputs": [
    {
     "data": {
      "text/plain": [
       "array([[4006,  244],\n",
       "       [ 688,  404]], dtype=int64)"
      ]
     },
     "execution_count": 14,
     "metadata": {},
     "output_type": "execute_result"
    }
   ],
   "source": [
    "tab1"
   ]
  },
  {
   "cell_type": "code",
   "execution_count": 15,
   "id": "4d8fafca",
   "metadata": {},
   "outputs": [
    {
     "name": "stdout",
     "output_type": "stream",
     "text": [
      "              precision    recall  f1-score   support\n",
      "\n",
      "           0       0.85      0.94      0.90      4250\n",
      "           1       0.62      0.37      0.46      1092\n",
      "\n",
      "    accuracy                           0.83      5342\n",
      "   macro avg       0.74      0.66      0.68      5342\n",
      "weighted avg       0.81      0.83      0.81      5342\n",
      "\n"
     ]
    }
   ],
   "source": [
    "print(classification_report(test_cr_y,pred_nb))"
   ]
  },
  {
   "cell_type": "code",
   "execution_count": null,
   "id": "e305af18",
   "metadata": {},
   "outputs": [],
   "source": []
  }
 ],
 "metadata": {
  "kernelspec": {
   "display_name": "Python 3 (ipykernel)",
   "language": "python",
   "name": "python3"
  },
  "language_info": {
   "codemirror_mode": {
    "name": "ipython",
    "version": 3
   },
   "file_extension": ".py",
   "mimetype": "text/x-python",
   "name": "python",
   "nbconvert_exporter": "python",
   "pygments_lexer": "ipython3",
   "version": "3.10.9"
  }
 },
 "nbformat": 4,
 "nbformat_minor": 5
}
